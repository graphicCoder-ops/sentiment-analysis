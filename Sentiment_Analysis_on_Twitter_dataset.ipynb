{
  "cells": [
    {
      "cell_type": "markdown",
      "id": "b2b7d66c-be6f-471a-8532-f3f123c9545d",
      "metadata": {
        "id": "b2b7d66c-be6f-471a-8532-f3f123c9545d"
      },
      "source": [
        "## Install libraries"
      ]
    },
    {
      "cell_type": "code",
      "execution_count": null,
      "id": "6628ef80-1f00-4927-bec5-fbd9299ce16f",
      "metadata": {
        "scrolled": true,
        "id": "6628ef80-1f00-4927-bec5-fbd9299ce16f",
        "outputId": "a611688b-dd65-4387-9e3f-8294b73c900c",
        "colab": {
          "base_uri": "https://localhost:8080/"
        }
      },
      "outputs": [
        {
          "output_type": "stream",
          "name": "stdout",
          "text": [
            "Requirement already satisfied: kagglehub in /usr/local/lib/python3.10/dist-packages (0.3.4)\n",
            "Requirement already satisfied: packaging in /usr/local/lib/python3.10/dist-packages (from kagglehub) (24.2)\n",
            "Requirement already satisfied: requests in /usr/local/lib/python3.10/dist-packages (from kagglehub) (2.32.3)\n",
            "Requirement already satisfied: tqdm in /usr/local/lib/python3.10/dist-packages (from kagglehub) (4.66.6)\n",
            "Requirement already satisfied: charset-normalizer<4,>=2 in /usr/local/lib/python3.10/dist-packages (from requests->kagglehub) (3.4.0)\n",
            "Requirement already satisfied: idna<4,>=2.5 in /usr/local/lib/python3.10/dist-packages (from requests->kagglehub) (3.10)\n",
            "Requirement already satisfied: urllib3<3,>=1.21.1 in /usr/local/lib/python3.10/dist-packages (from requests->kagglehub) (2.2.3)\n",
            "Requirement already satisfied: certifi>=2017.4.17 in /usr/local/lib/python3.10/dist-packages (from requests->kagglehub) (2024.8.30)\n"
          ]
        }
      ],
      "source": [
        "!pip install kagglehub"
      ]
    },
    {
      "cell_type": "markdown",
      "source": [
        "## import libraries"
      ],
      "metadata": {
        "id": "-TwXPDudvWWv"
      },
      "id": "-TwXPDudvWWv"
    },
    {
      "cell_type": "code",
      "execution_count": null,
      "id": "b0348bd1-c5dd-40e5-adfe-2b7bb8c3a3f7",
      "metadata": {
        "id": "b0348bd1-c5dd-40e5-adfe-2b7bb8c3a3f7"
      },
      "outputs": [],
      "source": [
        "import matplotlib.pyplot as plt\n",
        "import pandas as pd\n",
        "import numpy as np\n",
        "import kagglehub\n",
        "\n",
        "# Data preprocessing libraries\n",
        "import re\n",
        "import nltk\n",
        "import string\n",
        "from nltk.corpus import stopwords\n",
        "from nltk.stem import WordNetLemmatizer\n",
        "# label encoder\n",
        "from sklearn.preprocessing import LabelEncoder\n",
        "# evaluation\n",
        "from sklearn.metrics import classification_report, confusion_matrix\n",
        "import seaborn as sns\n",
        "from sklearn.model_selection import cross_validate"
      ]
    },
    {
      "cell_type": "markdown",
      "id": "0f8b49a5-3769-4bf7-a6f6-1176c64d52a5",
      "metadata": {
        "id": "0f8b49a5-3769-4bf7-a6f6-1176c64d52a5"
      },
      "source": [
        "# Data Loading and Exploration"
      ]
    },
    {
      "cell_type": "code",
      "execution_count": null,
      "id": "4badd0f0-a681-47f6-a1e7-6577e079a70d",
      "metadata": {
        "colab": {
          "base_uri": "https://localhost:8080/"
        },
        "id": "4badd0f0-a681-47f6-a1e7-6577e079a70d",
        "outputId": "f86bb4a6-e5e7-43d0-b1fc-07048cdab6ff"
      },
      "outputs": [
        {
          "output_type": "stream",
          "name": "stdout",
          "text": [
            "Path to dataset files: /root/.cache/kagglehub/datasets/jp797498e/twitter-entity-sentiment-analysis/versions/2\n"
          ]
        }
      ],
      "source": [
        "# Download latest version\n",
        "path = kagglehub.dataset_download(\"jp797498e/twitter-entity-sentiment-analysis\")\n",
        "\n",
        "print(\"Path to dataset files:\", path)"
      ]
    },
    {
      "cell_type": "code",
      "execution_count": null,
      "id": "8d9cde8e-6991-4126-9b4e-08eb4e51b5e7",
      "metadata": {
        "colab": {
          "base_uri": "https://localhost:8080/",
          "height": 206
        },
        "id": "8d9cde8e-6991-4126-9b4e-08eb4e51b5e7",
        "outputId": "d18aaa51-18f2-4da7-a6ba-287ba73e55cb"
      },
      "outputs": [
        {
          "output_type": "execute_result",
          "data": {
            "text/plain": [
              "   tweetID       entity    status  \\\n",
              "0     2401  Borderlands  Positive   \n",
              "1     2401  Borderlands  Positive   \n",
              "2     2401  Borderlands  Positive   \n",
              "3     2401  Borderlands  Positive   \n",
              "4     2401  Borderlands  Positive   \n",
              "\n",
              "                                           statement  \n",
              "0  im getting on borderlands and i will murder yo...  \n",
              "1  I am coming to the borders and I will kill you...  \n",
              "2  im getting on borderlands and i will kill you ...  \n",
              "3  im coming on borderlands and i will murder you...  \n",
              "4  im getting on borderlands 2 and i will murder ...  "
            ],
            "text/html": [
              "\n",
              "  <div id=\"df-1583edc2-aef3-480b-ac13-3b9f176155c5\" class=\"colab-df-container\">\n",
              "    <div>\n",
              "<style scoped>\n",
              "    .dataframe tbody tr th:only-of-type {\n",
              "        vertical-align: middle;\n",
              "    }\n",
              "\n",
              "    .dataframe tbody tr th {\n",
              "        vertical-align: top;\n",
              "    }\n",
              "\n",
              "    .dataframe thead th {\n",
              "        text-align: right;\n",
              "    }\n",
              "</style>\n",
              "<table border=\"1\" class=\"dataframe\">\n",
              "  <thead>\n",
              "    <tr style=\"text-align: right;\">\n",
              "      <th></th>\n",
              "      <th>tweetID</th>\n",
              "      <th>entity</th>\n",
              "      <th>status</th>\n",
              "      <th>statement</th>\n",
              "    </tr>\n",
              "  </thead>\n",
              "  <tbody>\n",
              "    <tr>\n",
              "      <th>0</th>\n",
              "      <td>2401</td>\n",
              "      <td>Borderlands</td>\n",
              "      <td>Positive</td>\n",
              "      <td>im getting on borderlands and i will murder yo...</td>\n",
              "    </tr>\n",
              "    <tr>\n",
              "      <th>1</th>\n",
              "      <td>2401</td>\n",
              "      <td>Borderlands</td>\n",
              "      <td>Positive</td>\n",
              "      <td>I am coming to the borders and I will kill you...</td>\n",
              "    </tr>\n",
              "    <tr>\n",
              "      <th>2</th>\n",
              "      <td>2401</td>\n",
              "      <td>Borderlands</td>\n",
              "      <td>Positive</td>\n",
              "      <td>im getting on borderlands and i will kill you ...</td>\n",
              "    </tr>\n",
              "    <tr>\n",
              "      <th>3</th>\n",
              "      <td>2401</td>\n",
              "      <td>Borderlands</td>\n",
              "      <td>Positive</td>\n",
              "      <td>im coming on borderlands and i will murder you...</td>\n",
              "    </tr>\n",
              "    <tr>\n",
              "      <th>4</th>\n",
              "      <td>2401</td>\n",
              "      <td>Borderlands</td>\n",
              "      <td>Positive</td>\n",
              "      <td>im getting on borderlands 2 and i will murder ...</td>\n",
              "    </tr>\n",
              "  </tbody>\n",
              "</table>\n",
              "</div>\n",
              "    <div class=\"colab-df-buttons\">\n",
              "\n",
              "  <div class=\"colab-df-container\">\n",
              "    <button class=\"colab-df-convert\" onclick=\"convertToInteractive('df-1583edc2-aef3-480b-ac13-3b9f176155c5')\"\n",
              "            title=\"Convert this dataframe to an interactive table.\"\n",
              "            style=\"display:none;\">\n",
              "\n",
              "  <svg xmlns=\"http://www.w3.org/2000/svg\" height=\"24px\" viewBox=\"0 -960 960 960\">\n",
              "    <path d=\"M120-120v-720h720v720H120Zm60-500h600v-160H180v160Zm220 220h160v-160H400v160Zm0 220h160v-160H400v160ZM180-400h160v-160H180v160Zm440 0h160v-160H620v160ZM180-180h160v-160H180v160Zm440 0h160v-160H620v160Z\"/>\n",
              "  </svg>\n",
              "    </button>\n",
              "\n",
              "  <style>\n",
              "    .colab-df-container {\n",
              "      display:flex;\n",
              "      gap: 12px;\n",
              "    }\n",
              "\n",
              "    .colab-df-convert {\n",
              "      background-color: #E8F0FE;\n",
              "      border: none;\n",
              "      border-radius: 50%;\n",
              "      cursor: pointer;\n",
              "      display: none;\n",
              "      fill: #1967D2;\n",
              "      height: 32px;\n",
              "      padding: 0 0 0 0;\n",
              "      width: 32px;\n",
              "    }\n",
              "\n",
              "    .colab-df-convert:hover {\n",
              "      background-color: #E2EBFA;\n",
              "      box-shadow: 0px 1px 2px rgba(60, 64, 67, 0.3), 0px 1px 3px 1px rgba(60, 64, 67, 0.15);\n",
              "      fill: #174EA6;\n",
              "    }\n",
              "\n",
              "    .colab-df-buttons div {\n",
              "      margin-bottom: 4px;\n",
              "    }\n",
              "\n",
              "    [theme=dark] .colab-df-convert {\n",
              "      background-color: #3B4455;\n",
              "      fill: #D2E3FC;\n",
              "    }\n",
              "\n",
              "    [theme=dark] .colab-df-convert:hover {\n",
              "      background-color: #434B5C;\n",
              "      box-shadow: 0px 1px 3px 1px rgba(0, 0, 0, 0.15);\n",
              "      filter: drop-shadow(0px 1px 2px rgba(0, 0, 0, 0.3));\n",
              "      fill: #FFFFFF;\n",
              "    }\n",
              "  </style>\n",
              "\n",
              "    <script>\n",
              "      const buttonEl =\n",
              "        document.querySelector('#df-1583edc2-aef3-480b-ac13-3b9f176155c5 button.colab-df-convert');\n",
              "      buttonEl.style.display =\n",
              "        google.colab.kernel.accessAllowed ? 'block' : 'none';\n",
              "\n",
              "      async function convertToInteractive(key) {\n",
              "        const element = document.querySelector('#df-1583edc2-aef3-480b-ac13-3b9f176155c5');\n",
              "        const dataTable =\n",
              "          await google.colab.kernel.invokeFunction('convertToInteractive',\n",
              "                                                    [key], {});\n",
              "        if (!dataTable) return;\n",
              "\n",
              "        const docLinkHtml = 'Like what you see? Visit the ' +\n",
              "          '<a target=\"_blank\" href=https://colab.research.google.com/notebooks/data_table.ipynb>data table notebook</a>'\n",
              "          + ' to learn more about interactive tables.';\n",
              "        element.innerHTML = '';\n",
              "        dataTable['output_type'] = 'display_data';\n",
              "        await google.colab.output.renderOutput(dataTable, element);\n",
              "        const docLink = document.createElement('div');\n",
              "        docLink.innerHTML = docLinkHtml;\n",
              "        element.appendChild(docLink);\n",
              "      }\n",
              "    </script>\n",
              "  </div>\n",
              "\n",
              "\n",
              "<div id=\"df-feae8e5f-fc9a-4778-a49f-436f74416936\">\n",
              "  <button class=\"colab-df-quickchart\" onclick=\"quickchart('df-feae8e5f-fc9a-4778-a49f-436f74416936')\"\n",
              "            title=\"Suggest charts\"\n",
              "            style=\"display:none;\">\n",
              "\n",
              "<svg xmlns=\"http://www.w3.org/2000/svg\" height=\"24px\"viewBox=\"0 0 24 24\"\n",
              "     width=\"24px\">\n",
              "    <g>\n",
              "        <path d=\"M19 3H5c-1.1 0-2 .9-2 2v14c0 1.1.9 2 2 2h14c1.1 0 2-.9 2-2V5c0-1.1-.9-2-2-2zM9 17H7v-7h2v7zm4 0h-2V7h2v10zm4 0h-2v-4h2v4z\"/>\n",
              "    </g>\n",
              "</svg>\n",
              "  </button>\n",
              "\n",
              "<style>\n",
              "  .colab-df-quickchart {\n",
              "      --bg-color: #E8F0FE;\n",
              "      --fill-color: #1967D2;\n",
              "      --hover-bg-color: #E2EBFA;\n",
              "      --hover-fill-color: #174EA6;\n",
              "      --disabled-fill-color: #AAA;\n",
              "      --disabled-bg-color: #DDD;\n",
              "  }\n",
              "\n",
              "  [theme=dark] .colab-df-quickchart {\n",
              "      --bg-color: #3B4455;\n",
              "      --fill-color: #D2E3FC;\n",
              "      --hover-bg-color: #434B5C;\n",
              "      --hover-fill-color: #FFFFFF;\n",
              "      --disabled-bg-color: #3B4455;\n",
              "      --disabled-fill-color: #666;\n",
              "  }\n",
              "\n",
              "  .colab-df-quickchart {\n",
              "    background-color: var(--bg-color);\n",
              "    border: none;\n",
              "    border-radius: 50%;\n",
              "    cursor: pointer;\n",
              "    display: none;\n",
              "    fill: var(--fill-color);\n",
              "    height: 32px;\n",
              "    padding: 0;\n",
              "    width: 32px;\n",
              "  }\n",
              "\n",
              "  .colab-df-quickchart:hover {\n",
              "    background-color: var(--hover-bg-color);\n",
              "    box-shadow: 0 1px 2px rgba(60, 64, 67, 0.3), 0 1px 3px 1px rgba(60, 64, 67, 0.15);\n",
              "    fill: var(--button-hover-fill-color);\n",
              "  }\n",
              "\n",
              "  .colab-df-quickchart-complete:disabled,\n",
              "  .colab-df-quickchart-complete:disabled:hover {\n",
              "    background-color: var(--disabled-bg-color);\n",
              "    fill: var(--disabled-fill-color);\n",
              "    box-shadow: none;\n",
              "  }\n",
              "\n",
              "  .colab-df-spinner {\n",
              "    border: 2px solid var(--fill-color);\n",
              "    border-color: transparent;\n",
              "    border-bottom-color: var(--fill-color);\n",
              "    animation:\n",
              "      spin 1s steps(1) infinite;\n",
              "  }\n",
              "\n",
              "  @keyframes spin {\n",
              "    0% {\n",
              "      border-color: transparent;\n",
              "      border-bottom-color: var(--fill-color);\n",
              "      border-left-color: var(--fill-color);\n",
              "    }\n",
              "    20% {\n",
              "      border-color: transparent;\n",
              "      border-left-color: var(--fill-color);\n",
              "      border-top-color: var(--fill-color);\n",
              "    }\n",
              "    30% {\n",
              "      border-color: transparent;\n",
              "      border-left-color: var(--fill-color);\n",
              "      border-top-color: var(--fill-color);\n",
              "      border-right-color: var(--fill-color);\n",
              "    }\n",
              "    40% {\n",
              "      border-color: transparent;\n",
              "      border-right-color: var(--fill-color);\n",
              "      border-top-color: var(--fill-color);\n",
              "    }\n",
              "    60% {\n",
              "      border-color: transparent;\n",
              "      border-right-color: var(--fill-color);\n",
              "    }\n",
              "    80% {\n",
              "      border-color: transparent;\n",
              "      border-right-color: var(--fill-color);\n",
              "      border-bottom-color: var(--fill-color);\n",
              "    }\n",
              "    90% {\n",
              "      border-color: transparent;\n",
              "      border-bottom-color: var(--fill-color);\n",
              "    }\n",
              "  }\n",
              "</style>\n",
              "\n",
              "  <script>\n",
              "    async function quickchart(key) {\n",
              "      const quickchartButtonEl =\n",
              "        document.querySelector('#' + key + ' button');\n",
              "      quickchartButtonEl.disabled = true;  // To prevent multiple clicks.\n",
              "      quickchartButtonEl.classList.add('colab-df-spinner');\n",
              "      try {\n",
              "        const charts = await google.colab.kernel.invokeFunction(\n",
              "            'suggestCharts', [key], {});\n",
              "      } catch (error) {\n",
              "        console.error('Error during call to suggestCharts:', error);\n",
              "      }\n",
              "      quickchartButtonEl.classList.remove('colab-df-spinner');\n",
              "      quickchartButtonEl.classList.add('colab-df-quickchart-complete');\n",
              "    }\n",
              "    (() => {\n",
              "      let quickchartButtonEl =\n",
              "        document.querySelector('#df-feae8e5f-fc9a-4778-a49f-436f74416936 button');\n",
              "      quickchartButtonEl.style.display =\n",
              "        google.colab.kernel.accessAllowed ? 'block' : 'none';\n",
              "    })();\n",
              "  </script>\n",
              "</div>\n",
              "\n",
              "    </div>\n",
              "  </div>\n"
            ],
            "application/vnd.google.colaboratory.intrinsic+json": {
              "type": "dataframe",
              "summary": "{\n  \"name\": \"#df\",\n  \"rows\": 5,\n  \"fields\": [\n    {\n      \"column\": \"tweetID\",\n      \"properties\": {\n        \"dtype\": \"number\",\n        \"std\": 0,\n        \"min\": 2401,\n        \"max\": 2401,\n        \"num_unique_values\": 1,\n        \"samples\": [\n          2401\n        ],\n        \"semantic_type\": \"\",\n        \"description\": \"\"\n      }\n    },\n    {\n      \"column\": \"entity\",\n      \"properties\": {\n        \"dtype\": \"category\",\n        \"num_unique_values\": 1,\n        \"samples\": [\n          \"Borderlands\"\n        ],\n        \"semantic_type\": \"\",\n        \"description\": \"\"\n      }\n    },\n    {\n      \"column\": \"status\",\n      \"properties\": {\n        \"dtype\": \"category\",\n        \"num_unique_values\": 1,\n        \"samples\": [\n          \"Positive\"\n        ],\n        \"semantic_type\": \"\",\n        \"description\": \"\"\n      }\n    },\n    {\n      \"column\": \"statement\",\n      \"properties\": {\n        \"dtype\": \"string\",\n        \"num_unique_values\": 5,\n        \"samples\": [\n          \"I am coming to the borders and I will kill you all,\"\n        ],\n        \"semantic_type\": \"\",\n        \"description\": \"\"\n      }\n    }\n  ]\n}"
            }
          },
          "metadata": {},
          "execution_count": 7
        }
      ],
      "source": [
        "# Load the dataset\n",
        "df = pd.read_csv(f\"{path}/twitter_training.csv\", names=[\"tweetID\", \"entity\" ,\"status\", \"statement\"])\n",
        "\n",
        "# Preview the data\n",
        "df.head()\n",
        "\n",
        "#df.count()"
      ]
    },
    {
      "cell_type": "markdown",
      "id": "531c13f6-f637-4f99-a4a5-f2c24c97ae88",
      "metadata": {
        "id": "531c13f6-f637-4f99-a4a5-f2c24c97ae88"
      },
      "source": [
        "## Exploratary Data analysis"
      ]
    },
    {
      "cell_type": "code",
      "source": [
        "df.describe(include='all')"
      ],
      "metadata": {
        "colab": {
          "base_uri": "https://localhost:8080/",
          "height": 394
        },
        "id": "9CfEnTpWMQwO",
        "outputId": "43f76875-20b5-4598-b1a0-618c2fc87682"
      },
      "id": "9CfEnTpWMQwO",
      "execution_count": null,
      "outputs": [
        {
          "output_type": "execute_result",
          "data": {
            "text/plain": [
              "             tweetID     entity    status  \\\n",
              "count   74682.000000      74682     74682   \n",
              "unique           NaN         32         4   \n",
              "top              NaN  Microsoft  Negative   \n",
              "freq             NaN       2400     22542   \n",
              "mean     6432.586165        NaN       NaN   \n",
              "std      3740.427870        NaN       NaN   \n",
              "min         1.000000        NaN       NaN   \n",
              "25%      3195.000000        NaN       NaN   \n",
              "50%      6422.000000        NaN       NaN   \n",
              "75%      9601.000000        NaN       NaN   \n",
              "max     13200.000000        NaN       NaN   \n",
              "\n",
              "                                                statement  \n",
              "count                                               73996  \n",
              "unique                                              69491  \n",
              "top     At the same time, despite the fact that there ...  \n",
              "freq                                                  172  \n",
              "mean                                                  NaN  \n",
              "std                                                   NaN  \n",
              "min                                                   NaN  \n",
              "25%                                                   NaN  \n",
              "50%                                                   NaN  \n",
              "75%                                                   NaN  \n",
              "max                                                   NaN  "
            ],
            "text/html": [
              "\n",
              "  <div id=\"df-17ace0d4-a57e-401b-8d9e-ffede3305c9c\" class=\"colab-df-container\">\n",
              "    <div>\n",
              "<style scoped>\n",
              "    .dataframe tbody tr th:only-of-type {\n",
              "        vertical-align: middle;\n",
              "    }\n",
              "\n",
              "    .dataframe tbody tr th {\n",
              "        vertical-align: top;\n",
              "    }\n",
              "\n",
              "    .dataframe thead th {\n",
              "        text-align: right;\n",
              "    }\n",
              "</style>\n",
              "<table border=\"1\" class=\"dataframe\">\n",
              "  <thead>\n",
              "    <tr style=\"text-align: right;\">\n",
              "      <th></th>\n",
              "      <th>tweetID</th>\n",
              "      <th>entity</th>\n",
              "      <th>status</th>\n",
              "      <th>statement</th>\n",
              "    </tr>\n",
              "  </thead>\n",
              "  <tbody>\n",
              "    <tr>\n",
              "      <th>count</th>\n",
              "      <td>74682.000000</td>\n",
              "      <td>74682</td>\n",
              "      <td>74682</td>\n",
              "      <td>73996</td>\n",
              "    </tr>\n",
              "    <tr>\n",
              "      <th>unique</th>\n",
              "      <td>NaN</td>\n",
              "      <td>32</td>\n",
              "      <td>4</td>\n",
              "      <td>69491</td>\n",
              "    </tr>\n",
              "    <tr>\n",
              "      <th>top</th>\n",
              "      <td>NaN</td>\n",
              "      <td>Microsoft</td>\n",
              "      <td>Negative</td>\n",
              "      <td>At the same time, despite the fact that there ...</td>\n",
              "    </tr>\n",
              "    <tr>\n",
              "      <th>freq</th>\n",
              "      <td>NaN</td>\n",
              "      <td>2400</td>\n",
              "      <td>22542</td>\n",
              "      <td>172</td>\n",
              "    </tr>\n",
              "    <tr>\n",
              "      <th>mean</th>\n",
              "      <td>6432.586165</td>\n",
              "      <td>NaN</td>\n",
              "      <td>NaN</td>\n",
              "      <td>NaN</td>\n",
              "    </tr>\n",
              "    <tr>\n",
              "      <th>std</th>\n",
              "      <td>3740.427870</td>\n",
              "      <td>NaN</td>\n",
              "      <td>NaN</td>\n",
              "      <td>NaN</td>\n",
              "    </tr>\n",
              "    <tr>\n",
              "      <th>min</th>\n",
              "      <td>1.000000</td>\n",
              "      <td>NaN</td>\n",
              "      <td>NaN</td>\n",
              "      <td>NaN</td>\n",
              "    </tr>\n",
              "    <tr>\n",
              "      <th>25%</th>\n",
              "      <td>3195.000000</td>\n",
              "      <td>NaN</td>\n",
              "      <td>NaN</td>\n",
              "      <td>NaN</td>\n",
              "    </tr>\n",
              "    <tr>\n",
              "      <th>50%</th>\n",
              "      <td>6422.000000</td>\n",
              "      <td>NaN</td>\n",
              "      <td>NaN</td>\n",
              "      <td>NaN</td>\n",
              "    </tr>\n",
              "    <tr>\n",
              "      <th>75%</th>\n",
              "      <td>9601.000000</td>\n",
              "      <td>NaN</td>\n",
              "      <td>NaN</td>\n",
              "      <td>NaN</td>\n",
              "    </tr>\n",
              "    <tr>\n",
              "      <th>max</th>\n",
              "      <td>13200.000000</td>\n",
              "      <td>NaN</td>\n",
              "      <td>NaN</td>\n",
              "      <td>NaN</td>\n",
              "    </tr>\n",
              "  </tbody>\n",
              "</table>\n",
              "</div>\n",
              "    <div class=\"colab-df-buttons\">\n",
              "\n",
              "  <div class=\"colab-df-container\">\n",
              "    <button class=\"colab-df-convert\" onclick=\"convertToInteractive('df-17ace0d4-a57e-401b-8d9e-ffede3305c9c')\"\n",
              "            title=\"Convert this dataframe to an interactive table.\"\n",
              "            style=\"display:none;\">\n",
              "\n",
              "  <svg xmlns=\"http://www.w3.org/2000/svg\" height=\"24px\" viewBox=\"0 -960 960 960\">\n",
              "    <path d=\"M120-120v-720h720v720H120Zm60-500h600v-160H180v160Zm220 220h160v-160H400v160Zm0 220h160v-160H400v160ZM180-400h160v-160H180v160Zm440 0h160v-160H620v160ZM180-180h160v-160H180v160Zm440 0h160v-160H620v160Z\"/>\n",
              "  </svg>\n",
              "    </button>\n",
              "\n",
              "  <style>\n",
              "    .colab-df-container {\n",
              "      display:flex;\n",
              "      gap: 12px;\n",
              "    }\n",
              "\n",
              "    .colab-df-convert {\n",
              "      background-color: #E8F0FE;\n",
              "      border: none;\n",
              "      border-radius: 50%;\n",
              "      cursor: pointer;\n",
              "      display: none;\n",
              "      fill: #1967D2;\n",
              "      height: 32px;\n",
              "      padding: 0 0 0 0;\n",
              "      width: 32px;\n",
              "    }\n",
              "\n",
              "    .colab-df-convert:hover {\n",
              "      background-color: #E2EBFA;\n",
              "      box-shadow: 0px 1px 2px rgba(60, 64, 67, 0.3), 0px 1px 3px 1px rgba(60, 64, 67, 0.15);\n",
              "      fill: #174EA6;\n",
              "    }\n",
              "\n",
              "    .colab-df-buttons div {\n",
              "      margin-bottom: 4px;\n",
              "    }\n",
              "\n",
              "    [theme=dark] .colab-df-convert {\n",
              "      background-color: #3B4455;\n",
              "      fill: #D2E3FC;\n",
              "    }\n",
              "\n",
              "    [theme=dark] .colab-df-convert:hover {\n",
              "      background-color: #434B5C;\n",
              "      box-shadow: 0px 1px 3px 1px rgba(0, 0, 0, 0.15);\n",
              "      filter: drop-shadow(0px 1px 2px rgba(0, 0, 0, 0.3));\n",
              "      fill: #FFFFFF;\n",
              "    }\n",
              "  </style>\n",
              "\n",
              "    <script>\n",
              "      const buttonEl =\n",
              "        document.querySelector('#df-17ace0d4-a57e-401b-8d9e-ffede3305c9c button.colab-df-convert');\n",
              "      buttonEl.style.display =\n",
              "        google.colab.kernel.accessAllowed ? 'block' : 'none';\n",
              "\n",
              "      async function convertToInteractive(key) {\n",
              "        const element = document.querySelector('#df-17ace0d4-a57e-401b-8d9e-ffede3305c9c');\n",
              "        const dataTable =\n",
              "          await google.colab.kernel.invokeFunction('convertToInteractive',\n",
              "                                                    [key], {});\n",
              "        if (!dataTable) return;\n",
              "\n",
              "        const docLinkHtml = 'Like what you see? Visit the ' +\n",
              "          '<a target=\"_blank\" href=https://colab.research.google.com/notebooks/data_table.ipynb>data table notebook</a>'\n",
              "          + ' to learn more about interactive tables.';\n",
              "        element.innerHTML = '';\n",
              "        dataTable['output_type'] = 'display_data';\n",
              "        await google.colab.output.renderOutput(dataTable, element);\n",
              "        const docLink = document.createElement('div');\n",
              "        docLink.innerHTML = docLinkHtml;\n",
              "        element.appendChild(docLink);\n",
              "      }\n",
              "    </script>\n",
              "  </div>\n",
              "\n",
              "\n",
              "<div id=\"df-87ad6a55-fed8-4df7-a395-9bab850f9321\">\n",
              "  <button class=\"colab-df-quickchart\" onclick=\"quickchart('df-87ad6a55-fed8-4df7-a395-9bab850f9321')\"\n",
              "            title=\"Suggest charts\"\n",
              "            style=\"display:none;\">\n",
              "\n",
              "<svg xmlns=\"http://www.w3.org/2000/svg\" height=\"24px\"viewBox=\"0 0 24 24\"\n",
              "     width=\"24px\">\n",
              "    <g>\n",
              "        <path d=\"M19 3H5c-1.1 0-2 .9-2 2v14c0 1.1.9 2 2 2h14c1.1 0 2-.9 2-2V5c0-1.1-.9-2-2-2zM9 17H7v-7h2v7zm4 0h-2V7h2v10zm4 0h-2v-4h2v4z\"/>\n",
              "    </g>\n",
              "</svg>\n",
              "  </button>\n",
              "\n",
              "<style>\n",
              "  .colab-df-quickchart {\n",
              "      --bg-color: #E8F0FE;\n",
              "      --fill-color: #1967D2;\n",
              "      --hover-bg-color: #E2EBFA;\n",
              "      --hover-fill-color: #174EA6;\n",
              "      --disabled-fill-color: #AAA;\n",
              "      --disabled-bg-color: #DDD;\n",
              "  }\n",
              "\n",
              "  [theme=dark] .colab-df-quickchart {\n",
              "      --bg-color: #3B4455;\n",
              "      --fill-color: #D2E3FC;\n",
              "      --hover-bg-color: #434B5C;\n",
              "      --hover-fill-color: #FFFFFF;\n",
              "      --disabled-bg-color: #3B4455;\n",
              "      --disabled-fill-color: #666;\n",
              "  }\n",
              "\n",
              "  .colab-df-quickchart {\n",
              "    background-color: var(--bg-color);\n",
              "    border: none;\n",
              "    border-radius: 50%;\n",
              "    cursor: pointer;\n",
              "    display: none;\n",
              "    fill: var(--fill-color);\n",
              "    height: 32px;\n",
              "    padding: 0;\n",
              "    width: 32px;\n",
              "  }\n",
              "\n",
              "  .colab-df-quickchart:hover {\n",
              "    background-color: var(--hover-bg-color);\n",
              "    box-shadow: 0 1px 2px rgba(60, 64, 67, 0.3), 0 1px 3px 1px rgba(60, 64, 67, 0.15);\n",
              "    fill: var(--button-hover-fill-color);\n",
              "  }\n",
              "\n",
              "  .colab-df-quickchart-complete:disabled,\n",
              "  .colab-df-quickchart-complete:disabled:hover {\n",
              "    background-color: var(--disabled-bg-color);\n",
              "    fill: var(--disabled-fill-color);\n",
              "    box-shadow: none;\n",
              "  }\n",
              "\n",
              "  .colab-df-spinner {\n",
              "    border: 2px solid var(--fill-color);\n",
              "    border-color: transparent;\n",
              "    border-bottom-color: var(--fill-color);\n",
              "    animation:\n",
              "      spin 1s steps(1) infinite;\n",
              "  }\n",
              "\n",
              "  @keyframes spin {\n",
              "    0% {\n",
              "      border-color: transparent;\n",
              "      border-bottom-color: var(--fill-color);\n",
              "      border-left-color: var(--fill-color);\n",
              "    }\n",
              "    20% {\n",
              "      border-color: transparent;\n",
              "      border-left-color: var(--fill-color);\n",
              "      border-top-color: var(--fill-color);\n",
              "    }\n",
              "    30% {\n",
              "      border-color: transparent;\n",
              "      border-left-color: var(--fill-color);\n",
              "      border-top-color: var(--fill-color);\n",
              "      border-right-color: var(--fill-color);\n",
              "    }\n",
              "    40% {\n",
              "      border-color: transparent;\n",
              "      border-right-color: var(--fill-color);\n",
              "      border-top-color: var(--fill-color);\n",
              "    }\n",
              "    60% {\n",
              "      border-color: transparent;\n",
              "      border-right-color: var(--fill-color);\n",
              "    }\n",
              "    80% {\n",
              "      border-color: transparent;\n",
              "      border-right-color: var(--fill-color);\n",
              "      border-bottom-color: var(--fill-color);\n",
              "    }\n",
              "    90% {\n",
              "      border-color: transparent;\n",
              "      border-bottom-color: var(--fill-color);\n",
              "    }\n",
              "  }\n",
              "</style>\n",
              "\n",
              "  <script>\n",
              "    async function quickchart(key) {\n",
              "      const quickchartButtonEl =\n",
              "        document.querySelector('#' + key + ' button');\n",
              "      quickchartButtonEl.disabled = true;  // To prevent multiple clicks.\n",
              "      quickchartButtonEl.classList.add('colab-df-spinner');\n",
              "      try {\n",
              "        const charts = await google.colab.kernel.invokeFunction(\n",
              "            'suggestCharts', [key], {});\n",
              "      } catch (error) {\n",
              "        console.error('Error during call to suggestCharts:', error);\n",
              "      }\n",
              "      quickchartButtonEl.classList.remove('colab-df-spinner');\n",
              "      quickchartButtonEl.classList.add('colab-df-quickchart-complete');\n",
              "    }\n",
              "    (() => {\n",
              "      let quickchartButtonEl =\n",
              "        document.querySelector('#df-87ad6a55-fed8-4df7-a395-9bab850f9321 button');\n",
              "      quickchartButtonEl.style.display =\n",
              "        google.colab.kernel.accessAllowed ? 'block' : 'none';\n",
              "    })();\n",
              "  </script>\n",
              "</div>\n",
              "\n",
              "    </div>\n",
              "  </div>\n"
            ],
            "application/vnd.google.colaboratory.intrinsic+json": {
              "type": "dataframe",
              "summary": "{\n  \"name\": \"df\",\n  \"rows\": 11,\n  \"fields\": [\n    {\n      \"column\": \"tweetID\",\n      \"properties\": {\n        \"dtype\": \"number\",\n        \"std\": 24586.55295779778,\n        \"min\": 1.0,\n        \"max\": 74682.0,\n        \"num_unique_values\": 8,\n        \"samples\": [\n          6432.586165341046,\n          6422.0,\n          74682.0\n        ],\n        \"semantic_type\": \"\",\n        \"description\": \"\"\n      }\n    },\n    {\n      \"column\": \"entity\",\n      \"properties\": {\n        \"dtype\": \"category\",\n        \"num_unique_values\": 4,\n        \"samples\": [\n          32,\n          \"2400\",\n          \"74682\"\n        ],\n        \"semantic_type\": \"\",\n        \"description\": \"\"\n      }\n    },\n    {\n      \"column\": \"status\",\n      \"properties\": {\n        \"dtype\": \"category\",\n        \"num_unique_values\": 4,\n        \"samples\": [\n          4,\n          \"22542\",\n          \"74682\"\n        ],\n        \"semantic_type\": \"\",\n        \"description\": \"\"\n      }\n    },\n    {\n      \"column\": \"statement\",\n      \"properties\": {\n        \"dtype\": \"category\",\n        \"num_unique_values\": 4,\n        \"samples\": [\n          69491,\n          \"172\",\n          \"73996\"\n        ],\n        \"semantic_type\": \"\",\n        \"description\": \"\"\n      }\n    }\n  ]\n}"
            }
          },
          "metadata": {},
          "execution_count": 8
        }
      ]
    },
    {
      "cell_type": "code",
      "execution_count": null,
      "id": "6b52f417-08d1-4e3d-b2aa-b1d4f7b20db0",
      "metadata": {
        "scrolled": true,
        "colab": {
          "base_uri": "https://localhost:8080/"
        },
        "id": "6b52f417-08d1-4e3d-b2aa-b1d4f7b20db0",
        "outputId": "44a45df1-761f-4fad-c9a9-d9d898b22249"
      },
      "outputs": [
        {
          "output_type": "stream",
          "name": "stdout",
          "text": [
            "tweetID        0\n",
            "entity         0\n",
            "status         0\n",
            "statement    686\n",
            "dtype: int64\n"
          ]
        }
      ],
      "source": [
        "# check for nulls\n",
        "print(df.isnull().sum())"
      ]
    },
    {
      "cell_type": "code",
      "execution_count": null,
      "id": "61d7ccd8-80a1-43f0-8d18-0cc3742b1ebd",
      "metadata": {
        "colab": {
          "base_uri": "https://localhost:8080/"
        },
        "id": "61d7ccd8-80a1-43f0-8d18-0cc3742b1ebd",
        "outputId": "9d275b63-7222-488a-9ff4-45d1ba07a1af"
      },
      "outputs": [
        {
          "output_type": "stream",
          "name": "stdout",
          "text": [
            "tweetID      0\n",
            "entity       0\n",
            "status       0\n",
            "statement    0\n",
            "dtype: int64\n"
          ]
        }
      ],
      "source": [
        "# Drop rows where 'statement' is NaN\n",
        "df = df.dropna(subset=['statement'])\n",
        "# check for nulls\n",
        "print(df.isnull().sum())"
      ]
    },
    {
      "cell_type": "markdown",
      "id": "e1f8d9bd-993a-4d91-9594-5e2470dcf63f",
      "metadata": {
        "id": "e1f8d9bd-993a-4d91-9594-5e2470dcf63f"
      },
      "source": [
        "### Check for empty statements"
      ]
    },
    {
      "cell_type": "code",
      "execution_count": null,
      "id": "48ccc5b1-1713-4b81-b43d-df2463338cde",
      "metadata": {
        "colab": {
          "base_uri": "https://localhost:8080/"
        },
        "id": "48ccc5b1-1713-4b81-b43d-df2463338cde",
        "outputId": "f4712620-cc8e-499b-a73d-6b553be09efc"
      },
      "outputs": [
        {
          "output_type": "stream",
          "name": "stdout",
          "text": [
            "Number of empty 'statement's: 172\n"
          ]
        }
      ],
      "source": [
        "# Identify empty strings\n",
        "empty_statements = df[df['statement'].str.strip() == '']\n",
        "\n",
        "# Number of empty statements\n",
        "print(\"Number of empty 'statement's:\", len(empty_statements))\n",
        "\n",
        "# drop rows with empty statements\n",
        "df = df[df['statement'].str.strip() != '']\n"
      ]
    },
    {
      "cell_type": "markdown",
      "id": "0c173ac9-8221-4ad7-8b97-801c1e0ef0e7",
      "metadata": {
        "id": "0c173ac9-8221-4ad7-8b97-801c1e0ef0e7"
      },
      "source": [
        "### Class Distribution"
      ]
    },
    {
      "cell_type": "code",
      "execution_count": null,
      "id": "0037ee6a-783a-413b-a5b2-690a18d2c593",
      "metadata": {
        "colab": {
          "base_uri": "https://localhost:8080/",
          "height": 807
        },
        "id": "0037ee6a-783a-413b-a5b2-690a18d2c593",
        "outputId": "07f4b864-d4db-4fb4-b0ea-17ade982bad1"
      },
      "outputs": [
        {
          "output_type": "display_data",
          "data": {
            "text/plain": [
              "<Figure size 1200x800 with 1 Axes>"
            ],
            "image/png": "[encoded data removed]"
          },
          "metadata": {}
        }
      ],
      "source": [
        "plt.figure(figsize=(12,8))\n",
        "\n",
        "# get the unique status values and their counts\n",
        "status_counts = df['status'].value_counts()\n",
        "\n",
        "# create the bar plot\n",
        "ax = status_counts.plot(kind='bar')\n",
        "\n",
        "# add the count labels on top of each bar\n",
        "for i, v in enumerate(status_counts):\n",
        "    ax.text(i, v, str(v), ha='center', va='bottom')\n",
        "\n",
        "plt.title('Statement distribution by status')\n",
        "plt.xlabel('Status')\n",
        "plt.ylabel('Count')\n",
        "plt.tight_layout()\n",
        "plt.show()"
      ]
    },
    {
      "cell_type": "markdown",
      "source": [
        "## Text Length Distrubution"
      ],
      "metadata": {
        "id": "jBxQbfOvvfF_"
      },
      "id": "jBxQbfOvvfF_"
    },
    {
      "cell_type": "code",
      "execution_count": null,
      "id": "83efc043-535b-4f07-9641-00d421148493",
      "metadata": {
        "colab": {
          "base_uri": "https://localhost:8080/",
          "height": 472
        },
        "id": "83efc043-535b-4f07-9641-00d421148493",
        "outputId": "5e15a139-99d0-495f-8ed5-2fba5610a214"
      },
      "outputs": [
        {
          "output_type": "display_data",
          "data": {
            "text/plain": [
              "<Figure size 640x480 with 1 Axes>"
            ],
            "image/png": "[encoded data removed]"
          },
          "metadata": {}
        }
      ],
      "source": [
        "df['text_length'] = df['statement'].apply(len)\n",
        "# Plot the histogram with 50 bins\n",
        "df['text_length'].hist(bins=50)\n",
        "\n",
        "# Reduce the X-axis range (e.g., to focus on lengths between 0 and 300)\n",
        "plt.xlim(0, 500)\n",
        "\n",
        "# Add labels for better understanding\n",
        "plt.xlabel('Text Length')\n",
        "plt.ylabel('Frequency')\n",
        "plt.title('Distribution of Text Lengths')\n",
        "\n",
        "# Show the plot\n",
        "plt.show()"
      ]
    },
    {
      "cell_type": "code",
      "execution_count": null,
      "id": "801661b5-b9ed-49ba-9fd7-47fd446c94b7",
      "metadata": {
        "colab": {
          "base_uri": "https://localhost:8080/"
        },
        "id": "801661b5-b9ed-49ba-9fd7-47fd446c94b7",
        "outputId": "228154f2-5288-41b5-acaf-1dce5df6ee00"
      },
      "outputs": [
        {
          "output_type": "stream",
          "name": "stdout",
          "text": [
            "\n",
            "Sentiment: Positive\n",
            "0    im getting on borderlands and i will murder yo...\n",
            "1    I am coming to the borders and I will kill you...\n",
            "2    im getting on borderlands and i will kill you ...\n",
            "Name: statement, dtype: object\n",
            "\n",
            "Sentiment: Neutral\n",
            "12    Rock-Hard La Varlope, RARE & POWERFUL, HANDSOM...\n",
            "13    Rock-Hard La Varlope, RARE & POWERFUL, HANDSOM...\n",
            "14    Rock-Hard La Varlope, RARE & POWERFUL, HANDSOM...\n",
            "Name: statement, dtype: object\n",
            "\n",
            "Sentiment: Negative\n",
            "24    the biggest dissappoinment in my life came out...\n",
            "25    The biggest disappointment of my life came a y...\n",
            "26    The biggest disappointment of my life came a y...\n",
            "Name: statement, dtype: object\n",
            "\n",
            "Sentiment: Irrelevant\n",
            "102    Appreciate the (sonic) concepts / praxis Valen...\n",
            "103    Appreciate the (sound) concepts / practices th...\n",
            "104    Evaluate the (sound) concepts / concepts of Va...\n",
            "Name: statement, dtype: object\n"
          ]
        }
      ],
      "source": [
        "# Displaying few examples of each sentiment\n",
        "for sentiment in df['status'].unique():\n",
        "    print(f\"\\nSentiment: {sentiment}\")\n",
        "    print(df[df['status'] == sentiment]['statement'].head(3))\n"
      ]
    },
    {
      "cell_type": "markdown",
      "id": "136aa939-5386-4084-9499-cd1b24a353e7",
      "metadata": {
        "id": "136aa939-5386-4084-9499-cd1b24a353e7"
      },
      "source": [
        "# Data Preprocessing"
      ]
    },
    {
      "cell_type": "markdown",
      "source": [
        "Lets download essential resources from the Natural Language Toolkit (NLTK), including stopwords, which are common words like \"the\" and \"and,\" and WordNet, which helps in reducing words to their root forms through lemmatization.\n",
        "\n",
        "Next, a list of stopwords is created, combining the default English stopwords with a few additional ones like \"u,\" \"im,\" and \"c.\" These words will be excluded from the text later since they don’t add much meaning.\n",
        "\n",
        "The core of the script is a function called preprocess_text. It takes a piece of text and cleans it step by step. It begins by converting everything to lowercase for uniformity and then removes things like URLs, text in brackets, HTML tags, and punctuation. It also strips out mentions (words starting with \"@\") and any words containing numbers. Extra spaces are condensed into a single space to ensure a clean format. Finally, the text is split into individual words, stopwords are removed, and the remaining words are lemmatized to reduce them to their base form.\n",
        "\n",
        "Once the function is ready, it’s applied to a column of text data in a pandas DataFrame. The cleaned and processed text is saved in a new column, making it ready for tasks like machine learning or sentiment analysis"
      ],
      "metadata": {
        "id": "mvwSThZUwFup"
      },
      "id": "mvwSThZUwFup"
    },
    {
      "cell_type": "code",
      "execution_count": null,
      "id": "b2c668f3-8b8b-44e8-862f-91ba53312b6c",
      "metadata": {
        "colab": {
          "base_uri": "https://localhost:8080/"
        },
        "id": "b2c668f3-8b8b-44e8-862f-91ba53312b6c",
        "outputId": "d5e299dd-dee8-46ed-f9b4-cbac507d086b"
      },
      "outputs": [
        {
          "output_type": "stream",
          "name": "stderr",
          "text": [
            "[nltk_data] Downloading package stopwords to /root/nltk_data...\n",
            "[nltk_data]   Unzipping corpora/stopwords.zip.\n",
            "[nltk_data] Downloading package wordnet to /root/nltk_data...\n"
          ]
        }
      ],
      "source": [
        "nltk.download('stopwords')\n",
        "nltk.download('wordnet')\n",
        "\n",
        "\n",
        "# Initialize lemmatizer and stopwords\n",
        "lemmatizer = WordNetLemmatizer()\n",
        "# stop words\n",
        "stop_words = stopwords.words('english')\n",
        "more_stopwords = ['u', 'im', 'c']\n",
        "stop_words = stop_words + more_stopwords\n",
        "\n",
        "def preprocess_text(text):\n",
        "    # Remove URLs, mentions, hashtags, etc.\n",
        "    # Convert to string and lowercase\n",
        "    text = str(text).lower()\n",
        "\n",
        "    # Remove text in square brackets\n",
        "    text = re.sub(r'\\[.*?\\]', '', text)\n",
        "\n",
        "    # Remove URLs (including markdown-style links)\n",
        "    text = re.sub(r'https?://\\S+|www\\.\\S+|\\[.*?\\]\\(.*?\\)', '', text)\n",
        "\n",
        "    # Remove HTML tags\n",
        "    text = re.sub(r'<.*?>+', '', text)\n",
        "\n",
        "    # Remove handles (that start with '@')\n",
        "    text = re.sub(r'@\\w+', '', text)\n",
        "\n",
        "    # Remove punctuation and other special characters\n",
        "    text = re.sub(f'[{re.escape(string.punctuation)}]', '', text)\n",
        "\n",
        "    # Remove newline characters\n",
        "    text = re.sub(r'\\n', ' ', text)\n",
        "\n",
        "    # Remove words containing numbers\n",
        "    text = re.sub(r'\\w*\\d\\w*', '', text)\n",
        "\n",
        "    # Remove extra spaces\n",
        "    text = re.sub(r'\\s+', ' ', text)\n",
        "\n",
        "    # Tokenize\n",
        "    words = text.split()\n",
        "    # Remove stopwords and lemmatize\n",
        "    words = [lemmatizer.lemmatize(word) for word in words if word not in stop_words]\n",
        "    return ' '.join(words)\n",
        "\n",
        "# Apply preprocessing\n",
        "df['clean_text'] = df['statement'].apply(preprocess_text)\n"
      ]
    },
    {
      "cell_type": "code",
      "execution_count": null,
      "id": "7e9322da-8fde-4311-b8ab-0c64fa041ae5",
      "metadata": {
        "id": "7e9322da-8fde-4311-b8ab-0c64fa041ae5"
      },
      "outputs": [],
      "source": [
        "stemmer = nltk.SnowballStemmer(\"english\")\n",
        "# stemmer = nltk.PorterStemmer()\n",
        "\n",
        "def stemm_text(text):\n",
        "    text = ' '.join(stemmer.stem(word) for word in text.split(' '))\n",
        "    return text"
      ]
    },
    {
      "cell_type": "code",
      "execution_count": null,
      "id": "979ad72c-a806-4c96-8f85-ec1bc64b57b7",
      "metadata": {
        "colab": {
          "base_uri": "https://localhost:8080/",
          "height": 206
        },
        "id": "979ad72c-a806-4c96-8f85-ec1bc64b57b7",
        "outputId": "3ecfc065-f2b0-4e27-c229-4eb97741236f"
      },
      "outputs": [
        {
          "output_type": "execute_result",
          "data": {
            "text/plain": [
              "   tweetID       entity    status  \\\n",
              "0     2401  Borderlands  Positive   \n",
              "1     2401  Borderlands  Positive   \n",
              "2     2401  Borderlands  Positive   \n",
              "3     2401  Borderlands  Positive   \n",
              "4     2401  Borderlands  Positive   \n",
              "\n",
              "                                           statement  text_length  \\\n",
              "0  im getting on borderlands and i will murder yo...           53   \n",
              "1  I am coming to the borders and I will kill you...           51   \n",
              "2  im getting on borderlands and i will kill you ...           50   \n",
              "3  im coming on borderlands and i will murder you...           51   \n",
              "4  im getting on borderlands 2 and i will murder ...           57   \n",
              "\n",
              "               clean_text  \n",
              "0   get borderland murder  \n",
              "1        come border kill  \n",
              "2     get borderland kill  \n",
              "3  come borderland murder  \n",
              "4   get borderland murder  "
            ],
            "text/html": [
              "\n",
              "  <div id=\"df-9b85468c-c040-4d3f-bad2-d9d9f3e50484\" class=\"colab-df-container\">\n",
              "    <div>\n",
              "<style scoped>\n",
              "    .dataframe tbody tr th:only-of-type {\n",
              "        vertical-align: middle;\n",
              "    }\n",
              "\n",
              "    .dataframe tbody tr th {\n",
              "        vertical-align: top;\n",
              "    }\n",
              "\n",
              "    .dataframe thead th {\n",
              "        text-align: right;\n",
              "    }\n",
              "</style>\n",
              "<table border=\"1\" class=\"dataframe\">\n",
              "  <thead>\n",
              "    <tr style=\"text-align: right;\">\n",
              "      <th></th>\n",
              "      <th>tweetID</th>\n",
              "      <th>entity</th>\n",
              "      <th>status</th>\n",
              "      <th>statement</th>\n",
              "      <th>text_length</th>\n",
              "      <th>clean_text</th>\n",
              "    </tr>\n",
              "  </thead>\n",
              "  <tbody>\n",
              "    <tr>\n",
              "      <th>0</th>\n",
              "      <td>2401</td>\n",
              "      <td>Borderlands</td>\n",
              "      <td>Positive</td>\n",
              "      <td>im getting on borderlands and i will murder yo...</td>\n",
              "      <td>53</td>\n",
              "      <td>get borderland murder</td>\n",
              "    </tr>\n",
              "    <tr>\n",
              "      <th>1</th>\n",
              "      <td>2401</td>\n",
              "      <td>Borderlands</td>\n",
              "      <td>Positive</td>\n",
              "      <td>I am coming to the borders and I will kill you...</td>\n",
              "      <td>51</td>\n",
              "      <td>come border kill</td>\n",
              "    </tr>\n",
              "    <tr>\n",
              "      <th>2</th>\n",
              "      <td>2401</td>\n",
              "      <td>Borderlands</td>\n",
              "      <td>Positive</td>\n",
              "      <td>im getting on borderlands and i will kill you ...</td>\n",
              "      <td>50</td>\n",
              "      <td>get borderland kill</td>\n",
              "    </tr>\n",
              "    <tr>\n",
              "      <th>3</th>\n",
              "      <td>2401</td>\n",
              "      <td>Borderlands</td>\n",
              "      <td>Positive</td>\n",
              "      <td>im coming on borderlands and i will murder you...</td>\n",
              "      <td>51</td>\n",
              "      <td>come borderland murder</td>\n",
              "    </tr>\n",
              "    <tr>\n",
              "      <th>4</th>\n",
              "      <td>2401</td>\n",
              "      <td>Borderlands</td>\n",
              "      <td>Positive</td>\n",
              "      <td>im getting on borderlands 2 and i will murder ...</td>\n",
              "      <td>57</td>\n",
              "      <td>get borderland murder</td>\n",
              "    </tr>\n",
              "  </tbody>\n",
              "</table>\n",
              "</div>\n",
              "    <div class=\"colab-df-buttons\">\n",
              "\n",
              "  <div class=\"colab-df-container\">\n",
              "    <button class=\"colab-df-convert\" onclick=\"convertToInteractive('df-9b85468c-c040-4d3f-bad2-d9d9f3e50484')\"\n",
              "            title=\"Convert this dataframe to an interactive table.\"\n",
              "            style=\"display:none;\">\n",
              "\n",
              "  <svg xmlns=\"http://www.w3.org/2000/svg\" height=\"24px\" viewBox=\"0 -960 960 960\">\n",
              "    <path d=\"M120-120v-720h720v720H120Zm60-500h600v-160H180v160Zm220 220h160v-160H400v160Zm0 220h160v-160H400v160ZM180-400h160v-160H180v160Zm440 0h160v-160H620v160ZM180-180h160v-160H180v160Zm440 0h160v-160H620v160Z\"/>\n",
              "  </svg>\n",
              "    </button>\n",
              "\n",
              "  <style>\n",
              "    .colab-df-container {\n",
              "      display:flex;\n",
              "      gap: 12px;\n",
              "    }\n",
              "\n",
              "    .colab-df-convert {\n",
              "      background-color: #E8F0FE;\n",
              "      border: none;\n",
              "      border-radius: 50%;\n",
              "      cursor: pointer;\n",
              "      display: none;\n",
              "      fill: #1967D2;\n",
              "      height: 32px;\n",
              "      padding: 0 0 0 0;\n",
              "      width: 32px;\n",
              "    }\n",
              "\n",
              "    .colab-df-convert:hover {\n",
              "      background-color: #E2EBFA;\n",
              "      box-shadow: 0px 1px 2px rgba(60, 64, 67, 0.3), 0px 1px 3px 1px rgba(60, 64, 67, 0.15);\n",
              "      fill: #174EA6;\n",
              "    }\n",
              "\n",
              "    .colab-df-buttons div {\n",
              "      margin-bottom: 4px;\n",
              "    }\n",
              "\n",
              "    [theme=dark] .colab-df-convert {\n",
              "      background-color: #3B4455;\n",
              "      fill: #D2E3FC;\n",
              "    }\n",
              "\n",
              "    [theme=dark] .colab-df-convert:hover {\n",
              "      background-color: #434B5C;\n",
              "      box-shadow: 0px 1px 3px 1px rgba(0, 0, 0, 0.15);\n",
              "      filter: drop-shadow(0px 1px 2px rgba(0, 0, 0, 0.3));\n",
              "      fill: #FFFFFF;\n",
              "    }\n",
              "  </style>\n",
              "\n",
              "    <script>\n",
              "      const buttonEl =\n",
              "        document.querySelector('#df-9b85468c-c040-4d3f-bad2-d9d9f3e50484 button.colab-df-convert');\n",
              "      buttonEl.style.display =\n",
              "        google.colab.kernel.accessAllowed ? 'block' : 'none';\n",
              "\n",
              "      async function convertToInteractive(key) {\n",
              "        const element = document.querySelector('#df-9b85468c-c040-4d3f-bad2-d9d9f3e50484');\n",
              "        const dataTable =\n",
              "          await google.colab.kernel.invokeFunction('convertToInteractive',\n",
              "                                                    [key], {});\n",
              "        if (!dataTable) return;\n",
              "\n",
              "        const docLinkHtml = 'Like what you see? Visit the ' +\n",
              "          '<a target=\"_blank\" href=https://colab.research.google.com/notebooks/data_table.ipynb>data table notebook</a>'\n",
              "          + ' to learn more about interactive tables.';\n",
              "        element.innerHTML = '';\n",
              "        dataTable['output_type'] = 'display_data';\n",
              "        await google.colab.output.renderOutput(dataTable, element);\n",
              "        const docLink = document.createElement('div');\n",
              "        docLink.innerHTML = docLinkHtml;\n",
              "        element.appendChild(docLink);\n",
              "      }\n",
              "    </script>\n",
              "  </div>\n",
              "\n",
              "\n",
              "<div id=\"df-28d94846-1c4c-4149-a3c6-abbc9d8e8e73\">\n",
              "  <button class=\"colab-df-quickchart\" onclick=\"quickchart('df-28d94846-1c4c-4149-a3c6-abbc9d8e8e73')\"\n",
              "            title=\"Suggest charts\"\n",
              "            style=\"display:none;\">\n",
              "\n",
              "<svg xmlns=\"http://www.w3.org/2000/svg\" height=\"24px\"viewBox=\"0 0 24 24\"\n",
              "     width=\"24px\">\n",
              "    <g>\n",
              "        <path d=\"M19 3H5c-1.1 0-2 .9-2 2v14c0 1.1.9 2 2 2h14c1.1 0 2-.9 2-2V5c0-1.1-.9-2-2-2zM9 17H7v-7h2v7zm4 0h-2V7h2v10zm4 0h-2v-4h2v4z\"/>\n",
              "    </g>\n",
              "</svg>\n",
              "  </button>\n",
              "\n",
              "<style>\n",
              "  .colab-df-quickchart {\n",
              "      --bg-color: #E8F0FE;\n",
              "      --fill-color: #1967D2;\n",
              "      --hover-bg-color: #E2EBFA;\n",
              "      --hover-fill-color: #174EA6;\n",
              "      --disabled-fill-color: #AAA;\n",
              "      --disabled-bg-color: #DDD;\n",
              "  }\n",
              "\n",
              "  [theme=dark] .colab-df-quickchart {\n",
              "      --bg-color: #3B4455;\n",
              "      --fill-color: #D2E3FC;\n",
              "      --hover-bg-color: #434B5C;\n",
              "      --hover-fill-color: #FFFFFF;\n",
              "      --disabled-bg-color: #3B4455;\n",
              "      --disabled-fill-color: #666;\n",
              "  }\n",
              "\n",
              "  .colab-df-quickchart {\n",
              "    background-color: var(--bg-color);\n",
              "    border: none;\n",
              "    border-radius: 50%;\n",
              "    cursor: pointer;\n",
              "    display: none;\n",
              "    fill: var(--fill-color);\n",
              "    height: 32px;\n",
              "    padding: 0;\n",
              "    width: 32px;\n",
              "  }\n",
              "\n",
              "  .colab-df-quickchart:hover {\n",
              "    background-color: var(--hover-bg-color);\n",
              "    box-shadow: 0 1px 2px rgba(60, 64, 67, 0.3), 0 1px 3px 1px rgba(60, 64, 67, 0.15);\n",
              "    fill: var(--button-hover-fill-color);\n",
              "  }\n",
              "\n",
              "  .colab-df-quickchart-complete:disabled,\n",
              "  .colab-df-quickchart-complete:disabled:hover {\n",
              "    background-color: var(--disabled-bg-color);\n",
              "    fill: var(--disabled-fill-color);\n",
              "    box-shadow: none;\n",
              "  }\n",
              "\n",
              "  .colab-df-spinner {\n",
              "    border: 2px solid var(--fill-color);\n",
              "    border-color: transparent;\n",
              "    border-bottom-color: var(--fill-color);\n",
              "    animation:\n",
              "      spin 1s steps(1) infinite;\n",
              "  }\n",
              "\n",
              "  @keyframes spin {\n",
              "    0% {\n",
              "      border-color: transparent;\n",
              "      border-bottom-color: var(--fill-color);\n",
              "      border-left-color: var(--fill-color);\n",
              "    }\n",
              "    20% {\n",
              "      border-color: transparent;\n",
              "      border-left-color: var(--fill-color);\n",
              "      border-top-color: var(--fill-color);\n",
              "    }\n",
              "    30% {\n",
              "      border-color: transparent;\n",
              "      border-left-color: var(--fill-color);\n",
              "      border-top-color: var(--fill-color);\n",
              "      border-right-color: var(--fill-color);\n",
              "    }\n",
              "    40% {\n",
              "      border-color: transparent;\n",
              "      border-right-color: var(--fill-color);\n",
              "      border-top-color: var(--fill-color);\n",
              "    }\n",
              "    60% {\n",
              "      border-color: transparent;\n",
              "      border-right-color: var(--fill-color);\n",
              "    }\n",
              "    80% {\n",
              "      border-color: transparent;\n",
              "      border-right-color: var(--fill-color);\n",
              "      border-bottom-color: var(--fill-color);\n",
              "    }\n",
              "    90% {\n",
              "      border-color: transparent;\n",
              "      border-bottom-color: var(--fill-color);\n",
              "    }\n",
              "  }\n",
              "</style>\n",
              "\n",
              "  <script>\n",
              "    async function quickchart(key) {\n",
              "      const quickchartButtonEl =\n",
              "        document.querySelector('#' + key + ' button');\n",
              "      quickchartButtonEl.disabled = true;  // To prevent multiple clicks.\n",
              "      quickchartButtonEl.classList.add('colab-df-spinner');\n",
              "      try {\n",
              "        const charts = await google.colab.kernel.invokeFunction(\n",
              "            'suggestCharts', [key], {});\n",
              "      } catch (error) {\n",
              "        console.error('Error during call to suggestCharts:', error);\n",
              "      }\n",
              "      quickchartButtonEl.classList.remove('colab-df-spinner');\n",
              "      quickchartButtonEl.classList.add('colab-df-quickchart-complete');\n",
              "    }\n",
              "    (() => {\n",
              "      let quickchartButtonEl =\n",
              "        document.querySelector('#df-28d94846-1c4c-4149-a3c6-abbc9d8e8e73 button');\n",
              "      quickchartButtonEl.style.display =\n",
              "        google.colab.kernel.accessAllowed ? 'block' : 'none';\n",
              "    })();\n",
              "  </script>\n",
              "</div>\n",
              "\n",
              "    </div>\n",
              "  </div>\n"
            ],
            "application/vnd.google.colaboratory.intrinsic+json": {
              "type": "dataframe",
              "variable_name": "df",
              "summary": "{\n  \"name\": \"df\",\n  \"rows\": 73824,\n  \"fields\": [\n    {\n      \"column\": \"tweetID\",\n      \"properties\": {\n        \"dtype\": \"number\",\n        \"std\": 3736,\n        \"min\": 1,\n        \"max\": 13200,\n        \"num_unique_values\": 12447,\n        \"samples\": [\n          1616,\n          2660,\n          2335\n        ],\n        \"semantic_type\": \"\",\n        \"description\": \"\"\n      }\n    },\n    {\n      \"column\": \"entity\",\n      \"properties\": {\n        \"dtype\": \"category\",\n        \"num_unique_values\": 32,\n        \"samples\": [\n          \"Cyberpunk2077\",\n          \"Microsoft\",\n          \"TomClancysRainbowSix\"\n        ],\n        \"semantic_type\": \"\",\n        \"description\": \"\"\n      }\n    },\n    {\n      \"column\": \"status\",\n      \"properties\": {\n        \"dtype\": \"category\",\n        \"num_unique_values\": 4,\n        \"samples\": [\n          \"Neutral\",\n          \"Irrelevant\",\n          \"Positive\"\n        ],\n        \"semantic_type\": \"\",\n        \"description\": \"\"\n      }\n    },\n    {\n      \"column\": \"statement\",\n      \"properties\": {\n        \"dtype\": \"string\",\n        \"num_unique_values\": 69490,\n        \"samples\": [\n          \"so how does my stained glass open facebook account girl already have 200 likes!!!! and i sure am so!!??? oh thankful!??!?!\",\n          \"How not to get bored about every damn thing in life.\",\n          \"The Best Perfect Way to Protect All the Planet Samsung Galaxy Note10 + By buff. ly / The 2zkjIhU..\"\n        ],\n        \"semantic_type\": \"\",\n        \"description\": \"\"\n      }\n    },\n    {\n      \"column\": \"text_length\",\n      \"properties\": {\n        \"dtype\": \"number\",\n        \"std\": 79,\n        \"min\": 1,\n        \"max\": 957,\n        \"num_unique_values\": 403,\n        \"samples\": [\n          18,\n          19,\n          180\n        ],\n        \"semantic_type\": \"\",\n        \"description\": \"\"\n      }\n    },\n    {\n      \"column\": \"clean_text\",\n      \"properties\": {\n        \"dtype\": \"string\",\n        \"num_unique_values\": 61144,\n        \"samples\": [\n          \"sinc reven concentr gas good combo\",\n          \"nice see osmat mcgillm great thing\",\n          \"best iphon mobil game industri updat \\u2018 disney hero \\u2019 includ \\u2018 real race race \\u2019 \\u2018 hearthston engin \\u2019 \\u2018 marvel strike forc \\u2019 unsort co best iphon com ga releas \\u2026\"\n        ],\n        \"semantic_type\": \"\",\n        \"description\": \"\"\n      }\n    }\n  ]\n}"
            }
          },
          "metadata": {},
          "execution_count": 17
        }
      ],
      "source": [
        "df['clean_text'] = df['clean_text'].apply(stemm_text)\n",
        "df.head()"
      ]
    },
    {
      "cell_type": "markdown",
      "source": [
        "Compare both statement and cleaned text"
      ],
      "metadata": {
        "id": "HBiLIs_cwQcW"
      },
      "id": "HBiLIs_cwQcW"
    },
    {
      "cell_type": "code",
      "execution_count": null,
      "id": "3e712743-5d3a-4bfc-a594-43ffd19fd69a",
      "metadata": {
        "colab": {
          "base_uri": "https://localhost:8080/"
        },
        "id": "3e712743-5d3a-4bfc-a594-43ffd19fd69a",
        "outputId": "4df8a946-a832-4687-b5f9-49800f11846f"
      },
      "outputs": [
        {
          "output_type": "stream",
          "name": "stdout",
          "text": [
            "Original Text:\n",
            " I am coming to the borders and I will kill you all,\n",
            "\n",
            "Cleaned Text:\n",
            " come border kill\n"
          ]
        }
      ],
      "source": [
        "print(\"Original Text:\\n\", df['statement'].iloc[1])\n",
        "print(\"\\nCleaned Text:\\n\", df['clean_text'].iloc[1])"
      ]
    },
    {
      "cell_type": "markdown",
      "source": [
        "Converting text values in the status column of a DataFrame into numbers using a LabelEncoder. Each unique status (e.g., \"Active,\" \"Inactive\") is assigned a unique number. The new numeric values are then stored in a new column called status_encoded. This is useful for preparing data for machine learning models, which work better with numbers than text."
      ],
      "metadata": {
        "id": "mIryF295wedW"
      },
      "id": "mIryF295wedW"
    },
    {
      "cell_type": "code",
      "execution_count": null,
      "id": "50c4ebc4-c9e2-48e3-85ef-c93c164b3a63",
      "metadata": {
        "id": "50c4ebc4-c9e2-48e3-85ef-c93c164b3a63"
      },
      "outputs": [],
      "source": [
        "le = LabelEncoder()\n",
        "df['status_encoded'] = le.fit_transform(df['status'])\n"
      ]
    },
    {
      "cell_type": "code",
      "execution_count": null,
      "id": "cd519e8e-95b5-4c06-9275-75f87e3ff8cd",
      "metadata": {
        "colab": {
          "base_uri": "https://localhost:8080/"
        },
        "id": "cd519e8e-95b5-4c06-9275-75f87e3ff8cd",
        "outputId": "bbb77941-9326-4933-fad0-6d9dbac39e60"
      },
      "outputs": [
        {
          "output_type": "stream",
          "name": "stdout",
          "text": [
            "Label Mapping: {'Irrelevant': 0, 'Negative': 1, 'Neutral': 2, 'Positive': 3}\n"
          ]
        }
      ],
      "source": [
        "label_mapping = dict(zip(le.classes_, le.transform(le.classes_)))\n",
        "print(\"Label Mapping:\", label_mapping)"
      ]
    },
    {
      "cell_type": "code",
      "execution_count": null,
      "id": "39a13fa3-fd74-441e-8d25-12d54d8b2008",
      "metadata": {
        "scrolled": true,
        "colab": {
          "base_uri": "https://localhost:8080/"
        },
        "id": "39a13fa3-fd74-441e-8d25-12d54d8b2008",
        "outputId": "2451dc5b-5ff3-4f8e-f39f-21bd8bb50fc0"
      },
      "outputs": [
        {
          "output_type": "stream",
          "name": "stdout",
          "text": [
            "73824 73824\n"
          ]
        }
      ],
      "source": [
        "X = df['clean_text']\n",
        "y = df['status_encoded']\n",
        "\n",
        "print(len(X), len(y))"
      ]
    },
    {
      "cell_type": "markdown",
      "source": [
        "Split the data set into training and testing (for example, use 90% as training, and 10% as testing in our case)"
      ],
      "metadata": {
        "id": "FoMq-rvFwjLy"
      },
      "id": "FoMq-rvFwjLy"
    },
    {
      "cell_type": "code",
      "execution_count": null,
      "id": "9d2f830c-7e0e-4149-a183-4b6a91b2a6b3",
      "metadata": {
        "colab": {
          "base_uri": "https://localhost:8080/"
        },
        "id": "9d2f830c-7e0e-4149-a183-4b6a91b2a6b3",
        "outputId": "28963ae5-9d9b-4f6a-b632-23291a70a556"
      },
      "outputs": [
        {
          "output_type": "stream",
          "name": "stdout",
          "text": [
            "66441 66441\n",
            "7383 7383\n"
          ]
        }
      ],
      "source": [
        "from sklearn.model_selection import train_test_split\n",
        "\n",
        "X_train, X_test, y_train, y_test = train_test_split(X, y, test_size=0.1, random_state=42)\n",
        "print(len(X_train), len(y_train))\n",
        "print(len(X_test), len(y_test))"
      ]
    },
    {
      "cell_type": "markdown",
      "source": [
        "TfidfVectorizer from sklearn to convert text data into numerical features using the Term Frequency-Inverse Document Frequency (TF-IDF) technique. Here's a breakdown:\n",
        "\n",
        "1. Importing the Vectorizer:\n",
        "\n",
        "  TfidfVectorizer is a tool for transforming text data into a matrix of TF-IDF features.\n",
        "2. Configuring the Vectorizer:\n",
        "\n",
        "   max_features=50_000: Limits the number of features (unique terms or n-grams) to the top 50,000 based on term importance.\n",
        "ngram_range=(1, 2): Considers both single words (unigrams) and two-word combinations (bigrams) as features\n",
        "\n",
        "Output is a sparse matrix containing the TF-IDF features of the training set, ready for machine learning models."
      ],
      "metadata": {
        "id": "qUYi147jxSgg"
      },
      "id": "qUYi147jxSgg"
    },
    {
      "cell_type": "code",
      "execution_count": null,
      "id": "2717a199-cd8d-48c5-8691-13af13403d18",
      "metadata": {
        "id": "2717a199-cd8d-48c5-8691-13af13403d18",
        "colab": {
          "base_uri": "https://localhost:8080/"
        },
        "outputId": "bfbf0a47-bd18-4d51-aa82-fbe36da2c6a3"
      },
      "outputs": [
        {
          "output_type": "execute_result",
          "data": {
            "text/plain": [
              "<66441x50000 sparse matrix of type '<class 'numpy.float64'>'\n",
              "\twith 906338 stored elements in Compressed Sparse Row format>"
            ]
          },
          "metadata": {},
          "execution_count": 23
        }
      ],
      "source": [
        "from sklearn.feature_extraction.text import TfidfVectorizer\n",
        "\n",
        "tfidf_vectorizer = TfidfVectorizer(max_features= 50_000, ngram_range=(1, 2))\n",
        "\n",
        "tfidf_vectorizer.fit(X_train)\n",
        "X_train_tfidf = tfidf_vectorizer.transform(X_train)\n",
        "X_test_tfidf = tfidf_vectorizer.transform(X_test)\n",
        "\n",
        "X_train_tfidf"
      ]
    },
    {
      "cell_type": "markdown",
      "source": [
        "Handling class imbalance using RandomOverSampler a technique to balance minority class with random selection"
      ],
      "metadata": {
        "id": "PevMw07tydcj"
      },
      "id": "PevMw07tydcj"
    },
    {
      "cell_type": "code",
      "execution_count": null,
      "id": "f92233a1-df67-4144-933c-c98440e574e1",
      "metadata": {
        "id": "f92233a1-df67-4144-933c-c98440e574e1",
        "outputId": "8f41bf88-dc64-4d4b-cda9-b197add47279",
        "colab": {
          "base_uri": "https://localhost:8080/"
        }
      },
      "outputs": [
        {
          "output_type": "stream",
          "name": "stdout",
          "text": [
            "(79936, 50000) (79936,)\n"
          ]
        }
      ],
      "source": [
        "# addressing class imbalance\n",
        "from imblearn.over_sampling import SMOTE, RandomOverSampler\n",
        "\n",
        "r_oversampler = RandomOverSampler(random_state= 42)\n",
        "X_train_resampled, y_train_resampled = r_oversampler.fit_resample(X_train_tfidf, y_train)\n",
        "\n",
        "print((X_train_resampled.shape), (y_train_resampled.shape))"
      ]
    },
    {
      "cell_type": "markdown",
      "source": [
        "# Model Training"
      ],
      "metadata": {
        "id": "TRwcEMC1xqKg"
      },
      "id": "TRwcEMC1xqKg"
    },
    {
      "cell_type": "markdown",
      "id": "8051dd30-da46-482f-ae3c-bd6f831ca2cd",
      "metadata": {
        "id": "8051dd30-da46-482f-ae3c-bd6f831ca2cd"
      },
      "source": [
        "### Logistic Regression"
      ]
    },
    {
      "cell_type": "code",
      "execution_count": null,
      "id": "694d1a76-390f-4f7c-8270-d3b8dc336a68",
      "metadata": {
        "id": "694d1a76-390f-4f7c-8270-d3b8dc336a68",
        "outputId": "5bbb461d-b405-488c-c89d-9f25f0e719f7",
        "colab": {
          "base_uri": "https://localhost:8080/",
          "height": 649
        }
      },
      "outputs": [
        {
          "output_type": "stream",
          "name": "stdout",
          "text": [
            "              precision    recall  f1-score   support\n",
            "\n",
            "  Irrelevant       0.80      0.80      0.80      1241\n",
            "    Negative       0.86      0.85      0.86      2328\n",
            "     Neutral       0.78      0.82      0.80      1781\n",
            "    Positive       0.85      0.82      0.83      2033\n",
            "\n",
            "    accuracy                           0.83      7383\n",
            "   macro avg       0.82      0.82      0.82      7383\n",
            "weighted avg       0.83      0.83      0.83      7383\n",
            "\n"
          ]
        },
        {
          "output_type": "display_data",
          "data": {
            "text/plain": [
              "<Figure size 640x480 with 2 Axes>"
            ],
            "image/png": "[encoded data removed]"
          },
          "metadata": {}
        }
      ],
      "source": [
        "from sklearn.linear_model import LogisticRegression\n",
        "\n",
        "lr = LogisticRegression(max_iter=200,random_state= 42)\n",
        "lr.fit(X_train_resampled, y_train_resampled)\n",
        "\n",
        "# Predictions\n",
        "y_pred = lr.predict(X_test_tfidf)\n",
        "\n",
        "# Classification report\n",
        "print(classification_report(y_test, y_pred, target_names=le.classes_))\n",
        "\n",
        "cm = confusion_matrix(y_test, y_pred)\n",
        "sns.heatmap(\n",
        "    cm, annot=True, fmt='d',\n",
        "    xticklabels=le.classes_, yticklabels=le.classes_\n",
        ")\n",
        "plt.ylabel('Actual')\n",
        "plt.xlabel('Predicted')\n",
        "plt.show()\n"
      ]
    },
    {
      "cell_type": "markdown",
      "id": "c74e5f42-88d8-4733-9db6-ee602eac6075",
      "metadata": {
        "id": "c74e5f42-88d8-4733-9db6-ee602eac6075"
      },
      "source": [
        "### Support Vector Machine"
      ]
    },
    {
      "cell_type": "code",
      "execution_count": null,
      "id": "190aaaf7-fbd5-4848-ba4b-42b4c53177d8",
      "metadata": {
        "id": "190aaaf7-fbd5-4848-ba4b-42b4c53177d8",
        "outputId": "e6548e1e-105d-4a4c-828c-dd201c7a0c21",
        "colab": {
          "base_uri": "https://localhost:8080/",
          "height": 649
        }
      },
      "outputs": [
        {
          "output_type": "stream",
          "name": "stdout",
          "text": [
            "              precision    recall  f1-score   support\n",
            "\n",
            "  Irrelevant       0.89      0.86      0.88      1241\n",
            "    Negative       0.92      0.90      0.91      2328\n",
            "     Neutral       0.83      0.90      0.87      1781\n",
            "    Positive       0.90      0.88      0.89      2033\n",
            "\n",
            "    accuracy                           0.89      7383\n",
            "   macro avg       0.89      0.88      0.89      7383\n",
            "weighted avg       0.89      0.89      0.89      7383\n",
            "\n"
          ]
        },
        {
          "output_type": "display_data",
          "data": {
            "text/plain": [
              "<Figure size 640x480 with 2 Axes>"
            ],
            "image/png": "[encoded data removed]"
          },
          "metadata": {}
        }
      ],
      "source": [
        "from sklearn.svm import LinearSVC\n",
        "\n",
        "svm = LinearSVC()\n",
        "svm.fit(X_train_resampled, y_train_resampled)\n",
        "\n",
        "# Predictions\n",
        "y_pred = svm.predict(X_test_tfidf)\n",
        "\n",
        "# Classification report\n",
        "print(classification_report(y_test, y_pred, target_names=le.classes_))\n",
        "\n",
        "# Confusion matrix\n",
        "cm = confusion_matrix(y_test, y_pred)\n",
        "sns.heatmap(\n",
        "    cm, annot=True, fmt='d',\n",
        "    xticklabels=le.classes_, yticklabels=le.classes_\n",
        ")\n",
        "plt.ylabel('Actual')\n",
        "plt.xlabel('Predicted')\n",
        "plt.show()\n"
      ]
    },
    {
      "cell_type": "markdown",
      "id": "3f0df985-577f-4aed-8af3-ee40714634aa",
      "metadata": {
        "id": "3f0df985-577f-4aed-8af3-ee40714634aa"
      },
      "source": [
        "### Random Forest Classification"
      ]
    },
    {
      "cell_type": "code",
      "execution_count": null,
      "id": "3c345204-c495-4621-adfd-1616f1a8ffff",
      "metadata": {
        "id": "3c345204-c495-4621-adfd-1616f1a8ffff",
        "outputId": "6c98a22d-1321-4d0f-aaf9-d603cd8398a7",
        "colab": {
          "base_uri": "https://localhost:8080/",
          "height": 649
        }
      },
      "outputs": [
        {
          "output_type": "stream",
          "name": "stdout",
          "text": [
            "              precision    recall  f1-score   support\n",
            "\n",
            "  Irrelevant       0.92      0.86      0.89      1241\n",
            "    Negative       0.92      0.91      0.92      2328\n",
            "     Neutral       0.84      0.90      0.87      1781\n",
            "    Positive       0.90      0.89      0.89      2033\n",
            "\n",
            "    accuracy                           0.89      7383\n",
            "   macro avg       0.90      0.89      0.89      7383\n",
            "weighted avg       0.90      0.89      0.89      7383\n",
            "\n"
          ]
        },
        {
          "output_type": "display_data",
          "data": {
            "text/plain": [
              "<Figure size 640x480 with 2 Axes>"
            ],
            "image/png": "[encoded data removed]"
          },
          "metadata": {}
        }
      ],
      "source": [
        "from sklearn.ensemble import RandomForestClassifier\n",
        "\n",
        "rf = RandomForestClassifier(random_state=42, n_estimators=20,n_jobs=-1)\n",
        "rf.fit(X_train_resampled, y_train_resampled)\n",
        "\n",
        "\n",
        "# Predictions\n",
        "y_pred = rf.predict(X_test_tfidf)\n",
        "\n",
        "# Classification report\n",
        "print(classification_report(y_test, y_pred, target_names=le.classes_))\n",
        "\n",
        "# Confusion matrix\n",
        "import seaborn as sns\n",
        "import matplotlib.pyplot as plt\n",
        "\n",
        "cm = confusion_matrix(y_test, y_pred)\n",
        "sns.heatmap(\n",
        "    cm, annot=True, fmt='d',\n",
        "    xticklabels=le.classes_, yticklabels=le.classes_\n",
        ")\n",
        "plt.ylabel('Actual')\n",
        "plt.xlabel('Predicted')\n",
        "plt.show()"
      ]
    },
    {
      "cell_type": "markdown",
      "id": "c7e17c98-c185-4a9d-ab2a-14aff66dc9c5",
      "metadata": {
        "id": "c7e17c98-c185-4a9d-ab2a-14aff66dc9c5"
      },
      "source": [
        "### Naive Bayes"
      ]
    },
    {
      "cell_type": "code",
      "execution_count": null,
      "id": "4a71b9e1-e231-4d46-b8b0-bed3a6a32d30",
      "metadata": {
        "id": "4a71b9e1-e231-4d46-b8b0-bed3a6a32d30",
        "outputId": "779102bd-2391-4d2f-802a-d99e854889ef",
        "colab": {
          "base_uri": "https://localhost:8080/",
          "height": 649
        }
      },
      "outputs": [
        {
          "output_type": "stream",
          "name": "stdout",
          "text": [
            "              precision    recall  f1-score   support\n",
            "\n",
            "  Irrelevant       0.69      0.82      0.75      1241\n",
            "    Negative       0.84      0.82      0.83      2328\n",
            "     Neutral       0.81      0.76      0.79      1781\n",
            "    Positive       0.82      0.79      0.81      2033\n",
            "\n",
            "    accuracy                           0.80      7383\n",
            "   macro avg       0.79      0.80      0.79      7383\n",
            "weighted avg       0.80      0.80      0.80      7383\n",
            "\n"
          ]
        },
        {
          "output_type": "display_data",
          "data": {
            "text/plain": [
              "<Figure size 640x480 with 2 Axes>"
            ],
            "image/png": "[encoded data removed]"
          },
          "metadata": {}
        }
      ],
      "source": [
        "from sklearn.naive_bayes import MultinomialNB\n",
        "\n",
        "nb = MultinomialNB()\n",
        "nb.fit(X_train_resampled, y_train_resampled)\n",
        "\n",
        "# Predictions\n",
        "y_pred = nb.predict(X_test_tfidf)\n",
        "\n",
        "# Classification report\n",
        "print(classification_report(y_test, y_pred, target_names=le.classes_))\n",
        "\n",
        "# Confusion matrix\n",
        "\n",
        "cm = confusion_matrix(y_test, y_pred)\n",
        "sns.heatmap(\n",
        "    cm, annot=True, fmt='d',\n",
        "    xticklabels=le.classes_, yticklabels=le.classes_\n",
        ")\n",
        "plt.ylabel('Actual')\n",
        "plt.xlabel('Predicted')\n",
        "plt.show()"
      ]
    },
    {
      "cell_type": "markdown",
      "id": "c1cfaaba-677e-40d2-ac00-ed94c59dfd4a",
      "metadata": {
        "id": "c1cfaaba-677e-40d2-ac00-ed94c59dfd4a"
      },
      "source": [
        "### XGBClassifier"
      ]
    },
    {
      "cell_type": "code",
      "execution_count": null,
      "id": "a1d0ffba-68b8-4c81-8904-bf1bee3cd50f",
      "metadata": {
        "id": "a1d0ffba-68b8-4c81-8904-bf1bee3cd50f",
        "outputId": "c9343d20-5fd6-407d-841f-c52862163965",
        "colab": {
          "base_uri": "https://localhost:8080/"
        }
      },
      "outputs": [
        {
          "output_type": "stream",
          "name": "stdout",
          "text": [
            "Requirement already satisfied: xgboost in /usr/local/lib/python3.10/dist-packages (2.1.2)\n",
            "Requirement already satisfied: numpy in /usr/local/lib/python3.10/dist-packages (from xgboost) (1.26.4)\n",
            "Requirement already satisfied: nvidia-nccl-cu12 in /usr/local/lib/python3.10/dist-packages (from xgboost) (2.23.4)\n",
            "Requirement already satisfied: scipy in /usr/local/lib/python3.10/dist-packages (from xgboost) (1.13.1)\n"
          ]
        }
      ],
      "source": [
        "!pip install xgboost"
      ]
    },
    {
      "cell_type": "code",
      "execution_count": null,
      "id": "41515961-f79e-42db-899a-929340964edb",
      "metadata": {
        "scrolled": true,
        "colab": {
          "base_uri": "https://localhost:8080/",
          "height": 1000
        },
        "id": "41515961-f79e-42db-899a-929340964edb",
        "outputId": "494d1b2b-5e29-483b-d309-92a867ef23bf"
      },
      "outputs": [
        {
          "output_type": "stream",
          "name": "stderr",
          "text": [
            "/usr/local/lib/python3.10/dist-packages/xgboost/core.py:158: UserWarning: [23:44:38] WARNING: /workspace/src/common/error_msg.cc:27: The tree method `gpu_hist` is deprecated since 2.0.0. To use GPU training, set the `device` parameter to CUDA instead.\n",
            "\n",
            "    E.g. tree_method = \"hist\", device = \"cuda\"\n",
            "\n",
            "  warnings.warn(smsg, UserWarning)\n",
            "/usr/local/lib/python3.10/dist-packages/xgboost/core.py:158: UserWarning: [23:45:03] WARNING: /workspace/src/common/error_msg.cc:27: The tree method `gpu_hist` is deprecated since 2.0.0. To use GPU training, set the `device` parameter to CUDA instead.\n",
            "\n",
            "    E.g. tree_method = \"hist\", device = \"cuda\"\n",
            "\n",
            "  warnings.warn(smsg, UserWarning)\n",
            "/usr/local/lib/python3.10/dist-packages/xgboost/core.py:158: UserWarning: [23:45:03] WARNING: /workspace/src/common/error_msg.cc:58: Falling back to prediction using DMatrix due to mismatched devices. This might lead to higher memory usage and slower performance. XGBoost is running on: cuda:0, while the input data is on: cpu.\n",
            "Potential solutions:\n",
            "- Use a data structure that matches the device ordinal in the booster.\n",
            "- Set the device for booster before call to inplace_predict.\n",
            "\n",
            "This warning will only be shown once.\n",
            "\n",
            "  warnings.warn(smsg, UserWarning)\n"
          ]
        },
        {
          "output_type": "stream",
          "name": "stdout",
          "text": [
            "              precision    recall  f1-score   support\n",
            "\n",
            "  Irrelevant       0.49      0.69      0.57      1241\n",
            "    Negative       0.78      0.74      0.76      2328\n",
            "     Neutral       0.72      0.61      0.66      1781\n",
            "    Positive       0.73      0.69      0.71      2033\n",
            "\n",
            "    accuracy                           0.69      7383\n",
            "   macro avg       0.68      0.68      0.68      7383\n",
            "weighted avg       0.70      0.69      0.69      7383\n",
            "\n"
          ]
        },
        {
          "output_type": "display_data",
          "data": {
            "text/plain": [
              "<Figure size 640x480 with 2 Axes>"
            ],
            "image/png": "[encoded data removed]"
          },
          "metadata": {}
        }
      ],
      "source": [
        "from xgboost import XGBClassifier\n",
        "xgb_clf = XGBClassifier(n_estimators= 1_000, learning_rate=0.05, tree_method='gpu_hist',n_jobs=-1)\n",
        "xgb_clf.fit(X_train_resampled, y_train_resampled,\n",
        "             eval_set=[(X_test_tfidf, y_test)],\n",
        "             verbose=False)\n",
        "\n",
        "y_pred3 = xgb_clf.predict(X_test_tfidf)\n",
        "\n",
        "labels3 = le.classes_\n",
        "conf_matrix3 = confusion_matrix(y_test, y_pred3)\n",
        "print(classification_report(y_test, y_pred3, target_names=labels3))\n",
        "\n",
        "# confusion matrix\n",
        "sns.heatmap(conf_matrix3, annot=True, fmt='d', cmap='Greens', xticklabels=le.classes_, yticklabels=labels3)\n",
        "plt.xlabel('Predicted')\n",
        "plt.ylabel('Actual')\n",
        "plt.title('Confusion Matrix XGBClassifier')\n",
        "plt.show()\n"
      ]
    },
    {
      "cell_type": "markdown",
      "id": "bd12a11e-2db5-42ab-a4d9-189f144f3907",
      "metadata": {
        "id": "bd12a11e-2db5-42ab-a4d9-189f144f3907"
      },
      "source": [
        "## HyperParamters tunning using GridCV"
      ]
    },
    {
      "cell_type": "code",
      "source": [
        "from sklearn.model_selection import GridSearchCV\n",
        "from sklearn.ensemble import RandomForestClassifier\n",
        "\n",
        "# Define a small hyperparameter grid\n",
        "param_grid = {\n",
        "    'n_estimators': [200, 500],        # Reduced number of trees\n",
        "    'max_depth': [None, 50],           # Either no limit or a reasonable depth\n",
        "    'min_samples_split': [2, 5],       # Common choices\n",
        "    'max_features': ['sqrt'],          # Recommended for classification\n",
        "    'bootstrap': [True]                # Standard setting\n",
        "}\n",
        "\n",
        "# Initialize the Random Forest Classifier\n",
        "rf = RandomForestClassifier(random_state=42, n_jobs=-1)\n",
        "\n",
        "# Set up GridSearchCV\n",
        "grid_search = GridSearchCV(\n",
        "    estimator=rf,\n",
        "    param_grid=param_grid,\n",
        "    cv=2,              # 2-fold cross-validation to save time\n",
        "    n_jobs=-1,         # Use all available cores\n",
        "    verbose=1          # Verbosity level\n",
        ")\n",
        "\n",
        "# Fit the model (This should take under 30 minutes)\n",
        "grid_search.fit(X_train_resampled, y_train_resampled)\n",
        "\n",
        "# Best parameters from GridSearchCV\n",
        "print(\"Best Parameters from GridSearchCV:\")\n",
        "print(grid_search.best_params_)\n"
      ],
      "metadata": {
        "colab": {
          "base_uri": "https://localhost:8080/"
        },
        "id": "D2INc1dSRKw6",
        "outputId": "90c9672f-946e-4698-92e4-40855704c018"
      },
      "id": "D2INc1dSRKw6",
      "execution_count": null,
      "outputs": [
        {
          "output_type": "stream",
          "name": "stdout",
          "text": [
            "Fitting 2 folds for each of 8 candidates, totalling 16 fits\n",
            "Best Parameters from GridSearchCV:\n",
            "{'bootstrap': True, 'max_depth': None, 'max_features': 'sqrt', 'min_samples_split': 2, 'n_estimators': 500}\n"
          ]
        }
      ]
    },
    {
      "cell_type": "markdown",
      "source": [
        "### Train model with tuned hyperparameters"
      ],
      "metadata": {
        "id": "HQPGyV7HyBmk"
      },
      "id": "HQPGyV7HyBmk"
    },
    {
      "cell_type": "code",
      "source": [
        "from sklearn.ensemble import RandomForestClassifier\n",
        "\n",
        "rf = RandomForestClassifier(random_state=42, bootstrap= True, max_depth= None, max_features= 'sqrt', min_samples_split= 2, n_estimators= 500 ,n_jobs=-1)\n",
        "rf.fit(X_train_resampled, y_train_resampled)\n",
        "\n",
        "from sklearn.metrics import classification_report, confusion_matrix\n",
        "\n",
        "# Predictions\n",
        "y_pred = rf.predict(X_test_tfidf)\n",
        "\n",
        "# Classification report\n",
        "print(classification_report(y_test, y_pred, target_names=le.classes_))\n",
        "\n",
        "# Confusion matrix\n",
        "import seaborn as sns\n",
        "import matplotlib.pyplot as plt\n",
        "\n",
        "cm = confusion_matrix(y_test, y_pred)\n",
        "sns.heatmap(\n",
        "    cm, annot=True, fmt='d',\n",
        "    xticklabels=le.classes_, yticklabels=le.classes_\n",
        ")\n",
        "plt.ylabel('Actual')\n",
        "plt.xlabel('Predicted')\n",
        "plt.show()"
      ],
      "metadata": {
        "id": "edQBSBxhdURG",
        "colab": {
          "base_uri": "https://localhost:8080/",
          "height": 649
        },
        "outputId": "9b52eef9-3ec3-4628-c478-1d1c30902530"
      },
      "id": "edQBSBxhdURG",
      "execution_count": null,
      "outputs": [
        {
          "output_type": "stream",
          "name": "stdout",
          "text": [
            "              precision    recall  f1-score   support\n",
            "\n",
            "  Irrelevant       0.94      0.88      0.91      1241\n",
            "    Negative       0.94      0.92      0.93      2328\n",
            "     Neutral       0.86      0.92      0.89      1781\n",
            "    Positive       0.91      0.91      0.91      2033\n",
            "\n",
            "    accuracy                           0.91      7383\n",
            "   macro avg       0.91      0.91      0.91      7383\n",
            "weighted avg       0.91      0.91      0.91      7383\n",
            "\n"
          ]
        },
        {
          "output_type": "display_data",
          "data": {
            "text/plain": [
              "<Figure size 640x480 with 2 Axes>"
            ],
            "image/png": "[encoded data removed]"
          },
          "metadata": {}
        }
      ]
    },
    {
      "cell_type": "markdown",
      "id": "3f1e44ed-5fdd-4b02-81d0-7ad44cde1fa4",
      "metadata": {
        "id": "3f1e44ed-5fdd-4b02-81d0-7ad44cde1fa4"
      },
      "source": [
        "## Cross Validation"
      ]
    },
    {
      "cell_type": "markdown",
      "source": [
        "cross validation on tuned hyperparameters"
      ],
      "metadata": {
        "id": "eWg1KBgczAyg"
      },
      "id": "eWg1KBgczAyg"
    },
    {
      "cell_type": "code",
      "execution_count": null,
      "id": "b4b9b65f-ff56-4f9e-a368-670286af4b92",
      "metadata": {
        "id": "b4b9b65f-ff56-4f9e-a368-670286af4b92"
      },
      "outputs": [],
      "source": [
        "rf = RandomForestClassifier(\n",
        "    random_state=42, bootstrap=True, max_depth=None,\n",
        "    max_features='sqrt', min_samples_split=2,\n",
        "    n_estimators=500, n_jobs=-1\n",
        ")"
      ]
    },
    {
      "cell_type": "code",
      "source": [
        "from sklearn.model_selection import cross_validate\n",
        "\n",
        "# Perform 5-fold cross-validation\n",
        "cv_results = cross_validate(\n",
        "    rf, X_train_resampled, y_train_resampled, cv=5,\n",
        "    scoring=['accuracy', 'precision_macro', 'recall_macro', 'f1_macro'],\n",
        "    return_train_score=True\n",
        ")\n",
        "\n",
        "# Print detailed cross-validation results\n",
        "print(\"Cross-validation results:\")\n",
        "for key, values in cv_results.items():\n",
        "    print(f\"{key}: {values}\")\n",
        "\n",
        "# Average test accuracy\n",
        "print(\"Mean test accuracy:\", cv_results['test_accuracy'].mean())"
      ],
      "metadata": {
        "colab": {
          "base_uri": "https://localhost:8080/"
        },
        "id": "zOC-mmWJNaiN",
        "outputId": "b68d59a7-0c11-4d36-cafc-ef3e4e0e910b"
      },
      "id": "zOC-mmWJNaiN",
      "execution_count": null,
      "outputs": [
        {
          "output_type": "stream",
          "name": "stdout",
          "text": [
            "Cross-validation results:\n",
            "fit_time: [227.9678812  229.25606942 231.21811986 237.91231656 243.85419583]\n",
            "score_time: [1.39456391 1.37828565 1.65667033 1.3707633  1.67590451]\n",
            "test_accuracy: [0.91775081 0.91149059 0.91787077 0.92837931 0.94601864]\n",
            "train_accuracy: [0.96844311 0.96911601 0.9686938  0.96816213 0.96820904]\n",
            "test_precision_macro: [0.91955727 0.9134058  0.91975472 0.92926582 0.94835169]\n",
            "train_precision_macro: [0.97009382 0.97071859 0.97040871 0.9699961  0.96990625]\n",
            "test_recall_macro: [0.91775081 0.91149135 0.91787068 0.92838116 0.9460166 ]\n",
            "train_recall_macro: [0.96844311 0.96911563 0.96869394 0.96816229 0.96820912]\n",
            "test_f1_macro: [0.91806775 0.91188932 0.91822358 0.92849947 0.94616698]\n",
            "train_f1_macro: [0.96868749 0.96935378 0.96894503 0.96843247 0.96845667]\n",
            "Mean test accuracy: 0.9243020235089372\n"
          ]
        }
      ]
    }
  ],
  "metadata": {
    "kernelspec": {
      "display_name": "Python 3",
      "name": "python3"
    },
    "language_info": {
      "codemirror_mode": {
        "name": "ipython",
        "version": 3
      },
      "file_extension": ".py",
      "mimetype": "text/x-python",
      "name": "python",
      "nbconvert_exporter": "python",
      "pygments_lexer": "ipython3",
      "version": "3.12.3"
    },
    "colab": {
      "provenance": [],
      "gpuType": "A100"
    },
    "accelerator": "GPU"
  },
  "nbformat": 4,
  "nbformat_minor": 5
}